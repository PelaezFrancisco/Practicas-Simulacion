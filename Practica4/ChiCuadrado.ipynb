{
 "cells": [
  {
   "cell_type": "code",
   "execution_count": 1,
   "metadata": {},
   "outputs": [],
   "source": [
    "import pandas as pd\n",
    "import scipy.stats as stats\n",
    "import numpy as np"
   ]
  },
  {
   "cell_type": "code",
   "execution_count": 2,
   "metadata": {},
   "outputs": [],
   "source": [
    "# Chicuadrada\n",
    "def chiCuadrado(df):\n",
    "    tablas = {}\n",
    "    for i in np.arange(0.1, 1.1, 0.1): \n",
    "        for j in df:\n",
    "            if j > i-0.1 and j <= i: \n",
    "                tablas[round(i-0.1,1)] = tablas[round(i-0.1,1)]+1 if round(i-0.1,1) in tablas else 1\n",
    "    return tablas"
   ]
  },
  {
   "cell_type": "code",
   "execution_count": 3,
   "metadata": {},
   "outputs": [],
   "source": [
    "def sumChiCuadrado(tabla, E):\n",
    "    return sum([(valor-E)**2/E for valor in tabla.values()])"
   ]
  },
  {
   "cell_type": "code",
   "execution_count": 4,
   "metadata": {},
   "outputs": [
    {
     "name": "stdout",
     "output_type": "stream",
     "text": [
      "[0.56497523563, 0.7016875174, 0.53720749753, 0.18954024449, 0.50428132897, 0.96587477493, 0.40808460781, 0.30471314415, 0.10021777867, 0.6031615491, 0.38543127117, 0.7264795722, 0.2568823895, 0.56203522971, 0.35994351724, 0.93356031021, 0.48527993914, 0.66193317221, 0.55244719935, 0.79080696586, 0.56572526992, 0.50810260568, 0.82578988055, 0.89268187832, 0.09358809232, 0.73102409684, 0.62301607376, 0.90281633257, 0.73303551448, 0.10654889582, 0.66720046121, 0.64554388367, 0.69057437464, 0.2966909427, 0.51548021468, 0.98517265388, 0.51579529622, 0.47876026775, 0.13939760516, 0.69232434325, 0.29962565438, 0.53276264321, 0.60340001057, 0.15727558761, 0.61045807078, 0.90561804394, 0.40415097117, 0.80074976541, 0.018680417, 0.57979293889, 0.98519867032, 0.6420000296, 0.40380064008, 0.49569290177, 0.14528651628, 0.1718127787, 0.63092461517, 0.58700274125, 0.22182350144, 0.66579110168, 0.7791076268, 0.8694137928, 0.03431108813, 0.25076866462, 0.92315529803, 0.57042808581, 0.82010808607, 0.72728373985, 0.16382502024, 0.6372566364, 0.60206358418, 0.05593956679, 0.23513265287, 0.36444568391, 0.06565206276, 0.19334464297, 0.15096519677, 0.49063580481, 0.34929615564, 0.78043448831, 0.79905436915, 0.78848577044, 0.98101863603, 0.75642381616, 0.69896540574, 0.26384212828, 0.66865531997, 0.9936924183, 0.46221869021, 0.61175794479, 0.77830136846, 0.30201467086, 0.86141467413, 0.5240806494, 0.05270755257, 0.08609791931, 0.85170951127, 0.90915877822, 0.96840144831, 0.13650889056]\n"
     ]
    }
   ],
   "source": [
    "#CUADRADOS MEDIOS\n",
    "semilla = \"74731897457\"\n",
    "tam1 = len(semilla)\n",
    "numero1 = int(semilla)\n",
    "#Cantidad\n",
    "cant = 100\n",
    "#Lista\n",
    "list_Cuadrados=[]\n",
    "for i in range(cant):\n",
    "\tnumero2 = numero1**2\n",
    "\tsnumero2 = str(numero2)\n",
    "\ttam2 = len(snumero2)\n",
    "\tprimerc = int((tam2 - tam1) / 2)\n",
    "\tsnumero3 = snumero2[primerc:primerc+tam1]\n",
    "\tnumero1 = int(snumero3)\n",
    "\tsnumero3 = int(snumero3)/(10**tam1)\n",
    "\tlist_Cuadrados.append(snumero3)\n",
    "\n",
    "print(list_Cuadrados)\n",
    "\n",
    "#categorizacion_cuadrados = categorizacion(list_Cuadrados)\n",
    "#dfCuadrados = pd.DataFrame(categorizacion_cuadrados, columns=['Categoria', 'Frecuencia'])\n",
    "#dfCuadrados\n",
    "\n"
   ]
  },
  {
   "cell_type": "code",
   "execution_count": 5,
   "metadata": {},
   "outputs": [
    {
     "name": "stdout",
     "output_type": "stream",
     "text": [
      "sumatorias = \n",
      "{0.0: 7, 0.1: 11, 0.2: 7, 0.3: 6, 0.4: 8, 0.5: 14, 0.6: 17, 0.7: 12, 0.8: 7, 0.9: 11}\n",
      "Chi-Cuadrado = 11.8\n"
     ]
    }
   ],
   "source": [
    "dfCua= chiCuadrado(list_Cuadrados)\n",
    "sum= sumChiCuadrado(dfCua,10)\n",
    "print('sumatorias = ')\n",
    "print(dfCua)\n",
    "print('Chi-Cuadrado = '+ str(sum))"
   ]
  },
  {
   "cell_type": "code",
   "execution_count": 4,
   "metadata": {},
   "outputs": [
    {
     "name": "stdout",
     "output_type": "stream",
     "text": [
      "[0.8947368421052632, 0.8421052631578947, 0.9473684210526315, 0.7368421052631579, 0.15789473684210525, 0.3157894736842105, 0.0, 0.631578947368421, 0.3684210526315789, 0.8947368421052632, 0.8421052631578947, 0.9473684210526315, 0.7368421052631579, 0.15789473684210525, 0.3157894736842105, 0.0, 0.631578947368421, 0.3684210526315789, 0.8947368421052632, 0.8421052631578947, 0.9473684210526315, 0.7368421052631579, 0.15789473684210525, 0.3157894736842105, 0.0, 0.631578947368421, 0.3684210526315789, 0.8947368421052632, 0.8421052631578947, 0.9473684210526315, 0.7368421052631579, 0.15789473684210525, 0.3157894736842105, 0.0, 0.631578947368421, 0.3684210526315789, 0.8947368421052632, 0.8421052631578947, 0.9473684210526315, 0.7368421052631579, 0.15789473684210525, 0.3157894736842105, 0.0, 0.631578947368421, 0.3684210526315789, 0.8947368421052632, 0.8421052631578947, 0.9473684210526315, 0.7368421052631579, 0.15789473684210525, 0.3157894736842105, 0.0, 0.631578947368421, 0.3684210526315789, 0.8947368421052632, 0.8421052631578947, 0.9473684210526315, 0.7368421052631579, 0.15789473684210525, 0.3157894736842105, 0.0, 0.631578947368421, 0.3684210526315789, 0.8947368421052632, 0.8421052631578947, 0.9473684210526315, 0.7368421052631579, 0.15789473684210525, 0.3157894736842105, 0.0, 0.631578947368421, 0.3684210526315789, 0.8947368421052632, 0.8421052631578947, 0.9473684210526315, 0.7368421052631579, 0.15789473684210525, 0.3157894736842105, 0.0, 0.631578947368421, 0.3684210526315789, 0.8947368421052632, 0.8421052631578947, 0.9473684210526315, 0.7368421052631579, 0.15789473684210525, 0.3157894736842105, 0.0, 0.631578947368421, 0.3684210526315789, 0.8947368421052632, 0.8421052631578947, 0.9473684210526315, 0.7368421052631579, 0.15789473684210525, 0.3157894736842105, 0.0, 0.631578947368421, 0.3684210526315789, 0.8947368421052632]\n"
     ]
    }
   ],
   "source": [
    "#CONGRUENCIA LINEAL\n",
    "xo = int(7)\n",
    "a = int(74731897457)\n",
    "b = int(37747318974)\n",
    "m = int(19)\n",
    "iteraciones = int(100)\n",
    "xn = xo\n",
    "list_CongruenciaLineal = []\n",
    "for i in range(iteraciones):\n",
    "  xnn = (a*xn+b) % m\n",
    "  ui = xnn/m\n",
    "  xn = xnn\n",
    "  list_CongruenciaLineal.append(ui)\n",
    "\n",
    "print(list_CongruenciaLineal)\n",
    "#categorizacion_congruencia = categorizacion(list_CongruenciaLineal)\n",
    "#dfCongruencia = pd.DataFrame(categorizacion_congruencia, columns=['Categoria', 'Frecuencia'])\n",
    "#dfCongruencia"
   ]
  },
  {
   "cell_type": "code",
   "execution_count": 5,
   "metadata": {},
   "outputs": [
    {
     "name": "stdout",
     "output_type": "stream",
     "text": [
      "sumatorias = \n",
      "{0.1: 11, 0.3: 22, 0.6: 11, 0.7: 11, 0.8: 23, 0.9: 11}\n",
      "Chi-Cuadrado = 31.7\n"
     ]
    }
   ],
   "source": [
    "dfCon= chiCuadrado(list_CongruenciaLineal)\n",
    "sum= sumChiCuadrado(dfCon,10)\n",
    "print('sumatorias = ')\n",
    "print(dfCon)\n",
    "print('Chi-Cuadrado = '+ str(sum))"
   ]
  }
 ],
 "metadata": {
  "interpreter": {
   "hash": "e788497cb3569157be8e656aed1f4beb46e0ad7c9c943d25fb630c9e375e334a"
  },
  "kernelspec": {
   "display_name": "Python 3.10.4 64-bit",
   "language": "python",
   "name": "python3"
  },
  "language_info": {
   "codemirror_mode": {
    "name": "ipython",
    "version": 3
   },
   "file_extension": ".py",
   "mimetype": "text/x-python",
   "name": "python",
   "nbconvert_exporter": "python",
   "pygments_lexer": "ipython3",
   "version": "3.10.4"
  },
  "orig_nbformat": 4
 },
 "nbformat": 4,
 "nbformat_minor": 2
}
