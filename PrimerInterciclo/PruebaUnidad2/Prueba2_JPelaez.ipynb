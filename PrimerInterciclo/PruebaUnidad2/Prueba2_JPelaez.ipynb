{
  "nbformat": 4,
  "nbformat_minor": 0,
  "metadata": {
    "colab": {
      "name": "Prueba2-JPelaez.ipynb",
      "provenance": [],
      "collapsed_sections": []
    },
    "kernelspec": {
      "name": "python3",
      "display_name": "Python 3"
    },
    "language_info": {
      "name": "python"
    }
  },
  "cells": [
    {
      "cell_type": "markdown",
      "source": [
        "Prueba de Unidad 2\n",
        "<br>\n",
        "Francisco Pelaez"
      ],
      "metadata": {
        "id": "fECVOAzrrs5M"
      }
    },
    {
      "cell_type": "code",
      "execution_count": 82,
      "metadata": {
        "id": "NtYlykroqMqv"
      },
      "outputs": [],
      "source": [
        "import random\n",
        "import math\n",
        "import numpy as np\n",
        "import matplotlib.pyplot as plt\n",
        "import numpy as np\n",
        "import pandas as pd\n",
        "import io\n",
        "from google.colab import files\n",
        "import plotly.graph_objects as go"
      ]
    },
    {
      "cell_type": "code",
      "source": [
        "#Creamos la lista de Corrida\n",
        "#Si es >= a 0.5 es 1, sino es 0\n",
        "def creacionCorrida(lista):\n",
        "  list_Corrida=[]\n",
        "  for i in range(len(lista)):\n",
        "    if(lista[i]>=0.5):\n",
        "      list_Corrida.append(1)\n",
        "    else:\n",
        "      list_Corrida.append(0)\n",
        "  return list_Corrida"
      ],
      "metadata": {
        "id": "8YdwXPEI0eSE"
      },
      "execution_count": 74,
      "outputs": []
    },
    {
      "cell_type": "code",
      "source": [
        "#Calculo de Corridas en Secuencuas -> Co\n",
        "def calculoZo(lista):\n",
        "  cambio = lista[0]\n",
        "  sumcambio=0\n",
        "  sumCeros=0\n",
        "  sumUnos=0\n",
        "  for i in range(len(lista)):\n",
        "    if(lista[i] == 0):\n",
        "      sumCeros = sumCeros + 1\n",
        "    else:\n",
        "      sumUnos = sumUnos +1\n",
        "\n",
        "    if(cambio != lista[i]):\n",
        "      sumcambio = sumcambio + 1\n",
        "      cambio = lista[i]\n",
        "  Co = sumcambio+1\n",
        "  n0 = sumCeros\n",
        "  n1 = sumUnos\n",
        "  n = n0 + n1\n",
        "\n",
        "  print('cantidad de Cambios en Secuencias = '+str(Co))\n",
        "  print('cantidad de Ceros = '+str(n0))\n",
        "  print('cantidad de Unos = '+str(n1))\n",
        "  print('cantidad Total = '+str(n))\n",
        "  print('--------------------------')\n",
        "  #Calculo de Formula\n",
        "  Uco = ((2*(n0)*(n1))/n)+(1/2)\n",
        "  Oco = (2*(n0)*(n1)*((2*n0*n1)-n))/((n*n)*(n-1))\n",
        "  Zo = (Co-Uco)/(math.sqrt(Oco))\n",
        "\n",
        "  print('Uco = '+str(Uco))\n",
        "  print('Oco = '+str(Oco))\n",
        "  print('Zo = '+ str(Zo))\n",
        "  print('--------------------------')\n",
        "  if(Zo >= -1.960 and Zo <= 1.96):\n",
        "    print('Si son dependientes entre si')\n",
        "  else:\n",
        "    print('No son dependientes entre si')\n",
        "    \n",
        "  return [n0,n1]\n",
        "  "
      ],
      "metadata": {
        "id": "3TUPRzht1_vj"
      },
      "execution_count": 84,
      "outputs": []
    },
    {
      "cell_type": "code",
      "source": [
        "#Cuadrados Medios\n",
        "#Xo=74731897457\n",
        "#D=7\n",
        "xo = int(74731897457)\n",
        "digitos = int(7)\n",
        "iteraciones = int(100)\n",
        "xn = xo\n",
        "nCM = [] #Lista para cuadrados medios\n",
        "for i in range(iteraciones):\n",
        "  xnn = xn**2\n",
        "  txnn = str(xnn).zfill(8)\n",
        "  tam = len(txnn)\n",
        "  ui = int(txnn[int(tam/2-digitos/2):int(tam/2+digitos/2)])\n",
        "  rn = ui / (int('9'*digitos)+1)\n",
        "  xn = ui\n",
        "  nCM.append(rn)\n",
        "\n",
        "lc_CuadradosMedios = creacionCorrida(nCM)\n",
        "print('Numeros de Cuadrados Medios= ' + str(len(nCM)))\n",
        "print('Lista Corrida Cuadrados Medios= ' + str(len(lc_CuadradosMedios)))\n",
        "print('----------------------------------------------------------------')\n",
        "#Calculo de Zo\n",
        "valores = calculoZo(lc_CuadradosMedios)\n",
        "\n",
        "etiquetas = ['Zeros', 'Unos']\n",
        "plt.figure()\n",
        "barras = plt.bar(etiquetas, valores)\n"
      ],
      "metadata": {
        "colab": {
          "base_uri": "https://localhost:8080/",
          "height": 501
        },
        "id": "H_7D1Y0Su7Lm",
        "outputId": "e5dad2e0-82ca-431e-d81c-66cff8556cf2"
      },
      "execution_count": 85,
      "outputs": [
        {
          "output_type": "stream",
          "name": "stdout",
          "text": [
            "Numeros de Cuadrados Medios= 100\n",
            "Lista Corrida Cuadrados Medios= 100\n",
            "----------------------------------------------------------------\n",
            "cantidad de Cambios en Secuencias = 49\n",
            "cantidad de Ceros = 41\n",
            "cantidad de Unos = 59\n",
            "cantidad Total = 100\n",
            "--------------------------\n",
            "Uco = 48.88\n",
            "Oco = 23.153983838383837\n",
            "Zo = 0.02493838832056819\n",
            "--------------------------\n",
            "Si son dependientes entre si\n"
          ]
        },
        {
          "output_type": "display_data",
          "data": {
            "text/plain": [
              "<Figure size 432x288 with 1 Axes>"
            ],
            "image/png": "[encoded data removed]"
          },
          "metadata": {
            "needs_background": "light"
          }
        }
      ]
    },
    {
      "cell_type": "code",
      "source": [
        "#Generador COngruencia Lineal\n",
        "xo = int(7)\n",
        "a = int(74731897457)\n",
        "b = int(37747318974)\n",
        "m = int(19)\n",
        "iteraciones = int(100)\n",
        "xn = xo\n",
        "nCL = []\n",
        "for i in range(iteraciones):\n",
        "  xnn = (a*xn+b) % m\n",
        "  ui = xnn/m\n",
        "  xn = xnn\n",
        "  nCL.append(ui)\n",
        "\n",
        "lc_Congruencia = creacionCorrida(nCL)\n",
        "print('Numeros de Random Seed= ' + str(len(nCL)))\n",
        "print('Lista Corrida RandomSeed= ' + str(len(lc_Congruencia)))\n",
        "\n",
        "print('----------------------------------------------------------------')\n",
        "#Calculo de Zo\n",
        "valores =calculoZo(lc_Congruencia)\n",
        "\n",
        "etiquetas = ['Zeros', 'Unos']\n",
        "plt.figure()\n",
        "plt.pie(valores, labels=etiquetas)\n",
        "plt.show()"
      ],
      "metadata": {
        "colab": {
          "base_uri": "https://localhost:8080/",
          "height": 484
        },
        "id": "ThB6DonH_8Qq",
        "outputId": "f5975025-6500-45f1-a9c8-4aff95807e5b"
      },
      "execution_count": 98,
      "outputs": [
        {
          "output_type": "stream",
          "name": "stdout",
          "text": [
            "Numeros de Random Seed= 100\n",
            "Lista Corrida RandomSeed= 100\n",
            "----------------------------------------------------------------\n",
            "cantidad de Cambios en Secuencias = 45\n",
            "cantidad de Ceros = 44\n",
            "cantidad de Unos = 56\n",
            "cantidad Total = 100\n",
            "--------------------------\n",
            "Uco = 49.78\n",
            "Oco = 24.032711111111112\n",
            "Zo = -0.9750491625213825\n",
            "--------------------------\n",
            "Si son dependientes entre si\n"
          ]
        },
        {
          "output_type": "display_data",
          "data": {
            "text/plain": [
              "<Figure size 432x288 with 1 Axes>"
            ],
            "image/png": "[encoded data removed]"
          },
          "metadata": {}
        }
      ]
    },
    {
      "cell_type": "code",
      "source": [
        "#Random con Python\n",
        "#Semilla = 1032022\n",
        "random.seed(1032022) \n",
        "nRS=[]\n",
        "for i in range(100):\n",
        "  nRS.append(random.random())\n",
        "\n",
        "lc_RandomSeed = creacionCorrida(nRS)\n",
        "print('Numeros de Random Seed= ' + str(len(nRS)))\n",
        "print('Lista Corrida RandomSeed= ' + str(len(lc_RandomSeed)))\n",
        "\n",
        "print('----------------------------------------------------------------')\n",
        "#Calculo de Zo\n",
        "valores = calculoZo(lc_RandomSeed)\n",
        "\n",
        "etiquetas = ['Zeros', 'Unos']\n",
        "plt.figure()\n",
        "barras = plt.bar(etiquetas, valores)"
      ],
      "metadata": {
        "colab": {
          "base_uri": "https://localhost:8080/",
          "height": 501
        },
        "id": "U4cCJBiAs8nq",
        "outputId": "4a3cea41-e84f-48e7-e35a-04fa2fe295e7"
      },
      "execution_count": 99,
      "outputs": [
        {
          "output_type": "stream",
          "name": "stdout",
          "text": [
            "Numeros de Random Seed= 100\n",
            "Lista Corrida RandomSeed= 100\n",
            "----------------------------------------------------------------\n",
            "cantidad de Cambios en Secuencias = 46\n",
            "cantidad de Ceros = 57\n",
            "cantidad de Unos = 43\n",
            "cantidad Total = 100\n",
            "--------------------------\n",
            "Uco = 49.52\n",
            "Oco = 23.77717575757576\n",
            "Zo = -0.7218758774415761\n",
            "--------------------------\n",
            "Si son dependientes entre si\n"
          ]
        },
        {
          "output_type": "display_data",
          "data": {
            "text/plain": [
              "<Figure size 432x288 with 1 Axes>"
            ],
            "image/png": "[encoded data removed]"
          },
          "metadata": {
            "needs_background": "light"
          }
        }
      ]
    },
    {
      "cell_type": "code",
      "source": [
        "#Generador Tomsworth\n",
        "\n",
        "class TG(object):\n",
        "    #Parametros: Longitud de la matriz\n",
        "    def __init__(self, length: int = 1, debug: bool = False) -> None:\n",
        "        self.r = self.q = self.chunk_len = 0\n",
        "        self.debug = debug\n",
        "        if length <= 0:\n",
        "            raise ValueError(\"El tamaño de ser un entero positivo\")\n",
        "        self.length = length\n",
        "\n",
        "    #Obtenemos los bits \n",
        "    def get_bits(self) -> np.ndarray:\n",
        "        return self.B\n",
        "\n",
        "    def seed(self, r: int = 3, q: int = 5, chunk_len: int = 4):\n",
        "        self.r = r\n",
        "        self.q = q\n",
        "        self.chunk_len = chunk_len\n",
        "\n",
        "    #Convertimos los bits en decimales \n",
        "    def convert(self, bits: np.ndarray) -> np.ndarray:\n",
        "        res = 0\n",
        "        for index, bit in enumerate(bits):\n",
        "            res += bit * np.power(2, (len(bits) - index - 1))\n",
        "        return res\n",
        "\n",
        "    #Generamos los números aleatorios usando el método de Tauworthe\n",
        "    def random(self, n_decimal: int = 3) -> np.ndarray:\n",
        "\n",
        "        # Verificacion de la semilla\n",
        "        if self.r == 0 or self.q == 0 or self.chunk_len == 0:\n",
        "            self.seed()\n",
        "\n",
        "        # Numero de bits necesarios - Longitud\n",
        "        self.length_bit = self.length * self.chunk_len\n",
        "        self.verbose(f\"self.length_bit = {self.length_bit}\")\n",
        "\n",
        "        # Inicializamos el matriz B\n",
        "        self.B = np.ones(self.length_bit)\n",
        "\n",
        "        # Ampliamos la matriz B\n",
        "        for i in range(self.q, self.length_bit):\n",
        "            new_bit = 1 if self.B[i - self.r] != self.B[i - self.q] else 0\n",
        "            self.B[i] = new_bit\n",
        "\n",
        "        self.verbose(f\"Before splitting, self.B is {self.B}\")\n",
        "\n",
        "        self.B = np.array_split(self.B, self.length)\n",
        "\n",
        "        self.verbose(f\"After splitting, self.B is {self.B}\")\n",
        "\n",
        "        self.decimal = np.array(\n",
        "            [\n",
        "                round(self.convert(seg) / np.power(2, self.chunk_len), n_decimal)\n",
        "                for seg in self.B\n",
        "            ]\n",
        "        )\n",
        "\n",
        "        if 0 in self.decimal:\n",
        "            print(f\"Warning: zero found in index {np.where(self.decimal == 0.0)}\")\n",
        "            print(f\"r = {self.r}; q = {self.q}; l = {self.chunk_len}\")\n",
        "\n",
        "        return self.decimal\n",
        "\n",
        "    def get_cycle(self) -> int:\n",
        "        #Calculamos el tiempo de un ciclo de las matrices TG \n",
        "        try:\n",
        "            idx = np.where(self.decimal == self.decimal[0])[1]\n",
        "            return idx\n",
        "        except IndexError:\n",
        "            print(f\"Cycle larger than {len(self.decimal)}.\")\n",
        "            return 0\n",
        "\n",
        "    def verbose(self, *args, **kwargs) -> None:\n",
        "        #Funcion de impresion para depurar \n",
        "        if self.debug:\n",
        "            print(*args, **kwargs)\n",
        "\n",
        "\n",
        "def main() -> None:\n",
        "    tg = TG(length=100)\n",
        "    tg.seed(r=7, q=15, chunk_len=7)\n",
        "    res = tg.random()\n",
        "    nTw = res.tolist()\n",
        "    print(res.tolist())\n",
        "\n",
        "    lc_Tomsworth = creacionCorrida(nTw)\n",
        "    print('Numeros de Random Seed= ' + str(len(nTw)))\n",
        "    print('Lista Corrida RandomSeed= ' + str(len(lc_Tomsworth)))\n",
        "\n",
        "    print('----------------------------------------------------------------')\n",
        "    #Calculo de Zo\n",
        "    valores = calculoZo(lc_Tomsworth)\n",
        "    etiquetas = ['Zeros', 'Unos']\n",
        "    plt.figure()\n",
        "    plt.pie(valores, labels=etiquetas)\n",
        "    plt.show()\n",
        "\n",
        "\n",
        "if __name__ == \"__main__\":\n",
        "    main()\n"
      ],
      "metadata": {
        "id": "CE9jrYll6cyi",
        "colab": {
          "base_uri": "https://localhost:8080/",
          "height": 558
        },
        "outputId": "cde8bbfc-9028-423c-b1e9-209202695952"
      },
      "execution_count": 100,
      "outputs": [
        {
          "output_type": "stream",
          "name": "stdout",
          "text": [
            "Warning: zero found in index (array([17]),)\n",
            "r = 7; q = 15; l = 7\n",
            "[0.992, 0.992, 0.5, 0.492, 0.742, 0.5, 0.367, 0.617, 0.688, 0.492, 0.648, 0.594, 0.289, 0.523, 0.633, 0.375, 0.688, 0.0, 0.344, 0.344, 0.453, 0.344, 0.383, 0.305, 0.492, 0.844, 0.398, 0.539, 0.719, 0.484, 0.625, 0.617, 0.805, 0.5, 0.398, 0.648, 0.578, 0.273, 0.547, 0.68, 0.406, 0.242, 0.539, 0.578, 0.312, 0.602, 0.695, 0.992, 0.148, 0.844, 0.289, 0.648, 0.508, 0.312, 0.562, 0.219, 0.438, 0.422, 0.328, 0.383, 0.281, 0.469, 0.859, 0.875, 0.555, 0.992, 0.719, 0.273, 0.602, 0.719, 0.453, 0.656, 0.57, 0.773, 0.555, 0.422, 0.664, 0.109, 0.281, 0.773, 0.883, 0.5, 0.438, 0.688, 0.531, 0.812, 0.578, 0.984, 0.711, 0.781, 0.57, 0.461, 0.242, 0.516, 0.102, 0.844, 0.828, 0.219, 0.32, 0.305]\n",
            "Numeros de Random Seed= 100\n",
            "Lista Corrida RandomSeed= 100\n",
            "----------------------------------------------------------------\n",
            "cantidad de Cambios en Secuencias = 48\n",
            "cantidad de Ceros = 42\n",
            "cantidad de Unos = 58\n",
            "cantidad Total = 100\n",
            "--------------------------\n",
            "Uco = 49.22\n",
            "Oco = 23.484024242424244\n",
            "Zo = -0.25175237171777376\n",
            "--------------------------\n",
            "Si son dependientes entre si\n"
          ]
        },
        {
          "output_type": "display_data",
          "data": {
            "text/plain": [
              "<Figure size 432x288 with 1 Axes>"
            ],
            "image/png": "[encoded data removed]"
          },
          "metadata": {}
        }
      ]
    }
  ]
}