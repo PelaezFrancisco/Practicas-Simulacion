{
 "cells": [
  {
   "cell_type": "code",
   "execution_count": 2,
   "metadata": {},
   "outputs": [],
   "source": [
    "import numpy as np"
   ]
  },
  {
   "cell_type": "code",
   "execution_count": 4,
   "metadata": {},
   "outputs": [
    {
     "name": "stdout",
     "output_type": "stream",
     "text": [
      "Warning: zero found in index (array([17], dtype=int64),)\n",
      "r = 7; q = 15; l = 7\n",
      "[0.992, 0.992, 0.5, 0.492, 0.742, 0.5, 0.367, 0.617, 0.688, 0.492, 0.648, 0.594, 0.289, 0.523, 0.633, 0.375, 0.688, 0.0, 0.344, 0.344, 0.453, 0.344, 0.383, 0.305, 0.492, 0.844, 0.398, 0.539, 0.719, 0.484, 0.625, 0.617, 0.805, 0.5, 0.398, 0.648, 0.578, 0.273, 0.547, 0.68, 0.406, 0.242, 0.539, 0.578, 0.312, 0.602, 0.695, 0.992, 0.148, 0.844, 0.289, 0.648, 0.508, 0.312, 0.562, 0.219, 0.438, 0.422, 0.328, 0.383, 0.281, 0.469, 0.859, 0.875, 0.555, 0.992, 0.719, 0.273, 0.602, 0.719, 0.453, 0.656, 0.57, 0.773, 0.555, 0.422, 0.664, 0.109, 0.281, 0.773, 0.883, 0.5, 0.438, 0.688, 0.531, 0.812, 0.578, 0.984, 0.711, 0.781, 0.57, 0.461, 0.242, 0.516, 0.102, 0.844, 0.828, 0.219, 0.32, 0.305]\n",
      "[0.992, 0.992, 0.5, 0.492, 0.742, 0.5, 0.367, 0.617, 0.688, 0.492, 0.648, 0.594, 0.289, 0.523, 0.633, 0.375, 0.688, 0.0, 0.344, 0.344, 0.453, 0.344, 0.383, 0.305, 0.492, 0.844, 0.398, 0.539, 0.719, 0.484, 0.625, 0.617, 0.805, 0.5, 0.398, 0.648, 0.578, 0.273, 0.547, 0.68, 0.406, 0.242, 0.539, 0.578, 0.312, 0.602, 0.695, 0.992, 0.148, 0.844, 0.289, 0.648, 0.508, 0.312, 0.562, 0.219, 0.438, 0.422, 0.328, 0.383, 0.281, 0.469, 0.859, 0.875, 0.555, 0.992, 0.719, 0.273, 0.602, 0.719, 0.453, 0.656, 0.57, 0.773, 0.555, 0.422, 0.664, 0.109, 0.281, 0.773, 0.883, 0.5, 0.438, 0.688, 0.531, 0.812, 0.578, 0.984, 0.711, 0.781, 0.57, 0.461, 0.242, 0.516, 0.102, 0.844, 0.828, 0.219, 0.32, 0.305]\n"
     ]
    }
   ],
   "source": [
    "class TG(object):\n",
    "    #Parametros: Longitud de la matriz\n",
    "    def __init__(self, length: int = 1, debug: bool = False) -> None:\n",
    "        self.r = self.q = self.chunk_len = 0\n",
    "        self.debug = debug\n",
    "        if length <= 0:\n",
    "            raise ValueError(\"El tamaño de ser un entero positivo\")\n",
    "        self.length = length\n",
    "\n",
    "    #Obtenemos los bits \n",
    "    def get_bits(self) -> np.ndarray:\n",
    "        return self.B\n",
    "\n",
    "    def seed(self, r: int = 3, q: int = 5, chunk_len: int = 4):\n",
    "        self.r = r\n",
    "        self.q = q\n",
    "        self.chunk_len = chunk_len\n",
    "\n",
    "    #Convertimos los bits en decimales \n",
    "    def convert(self, bits: np.ndarray) -> np.ndarray:\n",
    "        res = 0\n",
    "        for index, bit in enumerate(bits):\n",
    "            res += bit * np.power(2, (len(bits) - index - 1))\n",
    "        return res\n",
    "\n",
    "    #Generamos los números aleatorios usando el método de Tauworthe\n",
    "    def random(self, n_decimal: int = 3) -> np.ndarray:\n",
    "\n",
    "        # Verificacion de la semilla\n",
    "        if self.r == 0 or self.q == 0 or self.chunk_len == 0:\n",
    "            self.seed()\n",
    "\n",
    "        # Numero de bits necesarios - Longitud\n",
    "        self.length_bit = self.length * self.chunk_len\n",
    "        self.verbose(f\"self.length_bit = {self.length_bit}\")\n",
    "\n",
    "        # Inicializamos el matriz B\n",
    "        self.B = np.ones(self.length_bit)\n",
    "\n",
    "        # Ampliamos la matriz B\n",
    "        for i in range(self.q, self.length_bit):\n",
    "            new_bit = 1 if self.B[i - self.r] != self.B[i - self.q] else 0\n",
    "            self.B[i] = new_bit\n",
    "\n",
    "        self.verbose(f\"Before splitting, self.B is {self.B}\")\n",
    "\n",
    "        self.B = np.array_split(self.B, self.length)\n",
    "\n",
    "        self.verbose(f\"After splitting, self.B is {self.B}\")\n",
    "\n",
    "        self.decimal = np.array(\n",
    "            [\n",
    "                round(self.convert(seg) / np.power(2, self.chunk_len), n_decimal)\n",
    "                for seg in self.B\n",
    "            ]\n",
    "        )\n",
    "\n",
    "        if 0 in self.decimal:\n",
    "            print(f\"Warning: zero found in index {np.where(self.decimal == 0.0)}\")\n",
    "            print(f\"r = {self.r}; q = {self.q}; l = {self.chunk_len}\")\n",
    "\n",
    "        return self.decimal\n",
    "\n",
    "    def get_cycle(self) -> int:\n",
    "        #Calculamos el tiempo de un ciclo de las matrices TG \n",
    "        try:\n",
    "            idx = np.where(self.decimal == self.decimal[0])[1]\n",
    "            return idx\n",
    "        except IndexError:\n",
    "            print(f\"Cycle larger than {len(self.decimal)}.\")\n",
    "            return 0\n",
    "\n",
    "    def verbose(self, *args, **kwargs) -> None:\n",
    "        #Funcion de impresion para depurar \n",
    "        if self.debug:\n",
    "            print(*args, **kwargs)\n",
    "\n",
    "\n",
    "def main() -> None:\n",
    "    tg = TG(length=100)                 #DIMENSION DEL RESULTADO\n",
    "    tg.seed(r=7, q=15, chunk_len=7)     #SEMILLA\n",
    "    res = tg.random()\n",
    "    nTw = res.tolist()\n",
    "    print(res.tolist())\n",
    "\n",
    "    print(nTw)\n",
    "\n",
    "\n",
    "if __name__ == \"__main__\":\n",
    "    main()\n"
   ]
  }
 ],
 "metadata": {
  "interpreter": {
   "hash": "e788497cb3569157be8e656aed1f4beb46e0ad7c9c943d25fb630c9e375e334a"
  },
  "kernelspec": {
   "display_name": "Python 3.10.4 64-bit",
   "language": "python",
   "name": "python3"
  },
  "language_info": {
   "codemirror_mode": {
    "name": "ipython",
    "version": 3
   },
   "file_extension": ".py",
   "mimetype": "text/x-python",
   "name": "python",
   "nbconvert_exporter": "python",
   "pygments_lexer": "ipython3",
   "version": "3.10.4"
  },
  "orig_nbformat": 4
 },
 "nbformat": 4,
 "nbformat_minor": 2
}
