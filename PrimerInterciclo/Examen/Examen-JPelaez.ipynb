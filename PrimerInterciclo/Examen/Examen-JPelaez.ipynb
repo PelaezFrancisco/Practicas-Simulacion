{
 "cells": [
  {
   "cell_type": "code",
   "execution_count": 2,
   "metadata": {},
   "outputs": [],
   "source": [
    "import random\n",
    "import math\n",
    "import numpy as np\n",
    "import matplotlib.pyplot as plt\n",
    "import numpy as np\n",
    "import pandas as pd\n",
    "import io\n",
    "import plotly.graph_objects as go"
   ]
  },
  {
   "cell_type": "code",
   "execution_count": 34,
   "metadata": {},
   "outputs": [],
   "source": [
    "#Cuadrados Medios\n",
    "#Xo=74731897457\n",
    "#D=5\n",
    "xo = int(74731897457)\n",
    "digitos = int(5)\n",
    "iteraciones = int(3)\n",
    "xn = xo\n",
    "nCM = [] #Lista para cuadrados medios\n",
    "for i in range(iteraciones):\n",
    "  xnn = xn**2\n",
    "  txnn = str(xnn).zfill(8)\n",
    "  tam = len(txnn)\n",
    "  ui = int(txnn[int(tam/2-digitos/2):int(tam/2+digitos/2)])\n",
    "  rn = ui / (int('9'*digitos)+1)\n",
    "  xn = ui\n",
    "  nCM.append(rn)\n"
   ]
  },
  {
   "cell_type": "code",
   "execution_count": 27,
   "metadata": {},
   "outputs": [
    {
     "name": "stdout",
     "output_type": "stream",
     "text": [
      "[0.97523, 0.10735, 0.52402, 0.45969, 0.13148, 0.28699, 0.36326, 0.19578, 0.3298, 0.8768, 0.87782, 0.05679, 0.2251, 0.67001, 0.89134, 0.44869, 0.13227, 0.49535, 0.53716, 0.85408]\n"
     ]
    }
   ],
   "source": [
    "print(nCM)"
   ]
  },
  {
   "cell_type": "code",
   "execution_count": 52,
   "metadata": {},
   "outputs": [],
   "source": [
    "def unique(list1):\n",
    "    unique_list = []\n",
    "    for x in list1:\n",
    "        # check if exists in unique_list or not\n",
    "        if x not in unique_list:\n",
    "            unique_list.append(x)\n",
    "    return unique_list"
   ]
  },
  {
   "cell_type": "code",
   "execution_count": 53,
   "metadata": {},
   "outputs": [
    {
     "name": "stdout",
     "output_type": "stream",
     "text": [
      "11155\n",
      "i=1\n",
      "c=1\n",
      "1\n",
      "par\n",
      "i=1\n",
      "c=2\n",
      "2\n",
      "par\n",
      "i=5\n",
      "c=4\n",
      "4\n",
      "par\n",
      "['1', '5']\n",
      "cant pares= 3\n",
      "cant pared1= 2\n",
      "cant pared1= 1\n"
     ]
    }
   ],
   "source": [
    "nCM = [0.11155]\n",
    "\n",
    "td = 0 #Todos diferentes\n",
    "unPar = 0 #Un par\n",
    "dosPar = 0 #Dos pares\n",
    "terciaPar = 0 #Una Tercia y un par\n",
    "tercia = 0 #Tercia\n",
    "poker = 0 #4 iguales\n",
    "quintilla = 0 #todas iguales\n",
    "for l in nCM:\n",
    "    n = str(l)\n",
    "    n = n[2:]\n",
    "    if(len(n) == 4):\n",
    "        n = n+'0'\n",
    "    print(n)\n",
    "    c=1\n",
    "    #Compara cada digito con todo el num\n",
    "    checkpar = 0\n",
    "    mat_par=[]\n",
    "    for i in n:\n",
    "        if(n.find(i,c) != -1):\n",
    "            print('i='+str(i))\n",
    "            print('c='+str(c))\n",
    "            print(n.find(i,c))\n",
    "            print('par')\n",
    "            checkpar=checkpar+1\n",
    "            mat_par.append(i)\n",
    "        c=c+1\n",
    "    u_mat_par = unique(mat_par)\n",
    "    print(u_mat_par)\n",
    "    print('cant pares= '+str(len(mat_par)))\n",
    "    for x in u_mat_par:\n",
    "        #un par\n",
    "        if (mat_par.count(x) == 1 ):\n",
    "            unPar=unPar+1\n",
    "    for x in u_mat_par:\n",
    "        #dos pares\n",
    "        if (mat_par.count(x) == 2 ):\n",
    "            dosPar=dosPar+1\n",
    "    print('cant pared1= '+str(mat_par.count('1')))\n",
    "    print('cant pared1= '+str(mat_par.count('5')))\n",
    "\n",
    "    \n",
    "    "
   ]
  },
  {
   "cell_type": "code",
   "execution_count": 8,
   "metadata": {},
   "outputs": [],
   "source": [
    "def fun_categorias(list):\n",
    "    for l in list:\n",
    "        print(list[0])\n",
    "        #Los 5 son diferentes\n",
    "        "
   ]
  }
 ],
 "metadata": {
  "interpreter": {
   "hash": "e788497cb3569157be8e656aed1f4beb46e0ad7c9c943d25fb630c9e375e334a"
  },
  "kernelspec": {
   "display_name": "Python 3.10.4 64-bit",
   "language": "python",
   "name": "python3"
  },
  "language_info": {
   "codemirror_mode": {
    "name": "ipython",
    "version": 3
   },
   "file_extension": ".py",
   "mimetype": "text/x-python",
   "name": "python",
   "nbconvert_exporter": "python",
   "pygments_lexer": "ipython3",
   "version": "3.10.4"
  },
  "orig_nbformat": 4
 },
 "nbformat": 4,
 "nbformat_minor": 2
}
