{
  "nbformat": 4,
  "nbformat_minor": 0,
  "metadata": {
    "colab": {
      "name": "Practica9.ipynb",
      "provenance": []
    },
    "kernelspec": {
      "name": "python3",
      "display_name": "Python 3"
    },
    "language_info": {
      "name": "python"
    }
  },
  "cells": [
    {
      "cell_type": "markdown",
      "source": [
        "# Practica 9 - SimPy Lavanderia de Vehículos\n",
        "\n",
        "##### Nombre: Juan Francisco Pelaez Becerra\n",
        "\n",
        "##### Fecha: 30/07/2022"
      ],
      "metadata": {
        "id": "_FuzVE9Mp-k5"
      }
    },
    {
      "cell_type": "markdown",
      "source": [
        "En base al codigo anterior realizar los siguientes cambios: \n",
        "\n",
        "**Parametros**\n",
        "* Tres tipos de vehiculos\n",
        "* Tres tiempos diferentes\n",
        "  * Bus: 15- 20 minutos\n",
        "  * Automóvil: 7-10 minutos\n",
        "  * Furgoneta: 12-15 minutos\n",
        "\n",
        "Considere que a partir de la entrada del vehículo para ser lavado, deberán tomarse en cuenta los siguientes tiempos correspondientes al proceso de traslado desde la recepción a la máquina de lavado:\n",
        "\n",
        "  * Bus: 4 minutos\n",
        "  * Automóvil: 1 minuto\n",
        "  * Furgoneta: 2 minutos\n",
        "\n",
        "\n",
        "Realice una gráfica comparativa de la simulación con 3 y 4 máquinas de lavado\n",
        "\n",
        "Generar llegada de vehiculos de 1 - 2 minutos, por 60 minutos de lavado, el tipo de vehiculo es generado aleatorialmente."
      ],
      "metadata": {
        "id": "24mris4LqJEa"
      }
    },
    {
      "cell_type": "code",
      "source": [
        "!pip install simpy"
      ],
      "metadata": {
        "colab": {
          "base_uri": "https://localhost:8080/"
        },
        "id": "hAWwgnCwr3Ob",
        "outputId": "5026fc4e-a05f-4255-ccad-f59c525283de"
      },
      "execution_count": 2,
      "outputs": [
        {
          "output_type": "stream",
          "name": "stdout",
          "text": [
            "Looking in indexes: https://pypi.org/simple, https://us-python.pkg.dev/colab-wheels/public/simple/\n",
            "Collecting simpy\n",
            "  Downloading simpy-4.0.1-py2.py3-none-any.whl (29 kB)\n",
            "Installing collected packages: simpy\n",
            "Successfully installed simpy-4.0.1\n"
          ]
        }
      ]
    },
    {
      "cell_type": "code",
      "execution_count": 3,
      "metadata": {
        "id": "-f3DYMi3p1zJ"
      },
      "outputs": [],
      "source": [
        "import simpy\n",
        "import random\n",
        "import matplotlib.pyplot as plt\n",
        "\n",
        "%matplotlib inline\n",
        "\n",
        "class Vehicle():\n",
        "    '''Clase para los vehículos.\n",
        "    En esta se establece el tiempo mínimo de lavado, \n",
        "    el tiempo máximo de lavado y \n",
        "    el tiempo que se demora en trasladar el vahículo'''\n",
        "    def __init__(self, id, kind, min_wash_time, max_wash_time, move_time):\n",
        "        self.id = id\n",
        "        self.kind = kind\n",
        "        self.min_wash_time = min_wash_time\n",
        "        self.max_wash_time = max_wash_time\n",
        "        self.move_time = move_time\n",
        "\n",
        "class Laundry(object):\n",
        "    '''Clase para la lavandería.\n",
        "    Aqui se almacena el Ambiente de Simulación y \n",
        "    la cantidad de máquinas disposibles'''\n",
        "    def __init__(self, environment, machines_num):\n",
        "        self.env = environment\n",
        "        self.machines = simpy.Resource(environment, machines_num)\n",
        "        \n",
        "    def wash_vehicle(self, vehicle):\n",
        "        ''''''\n",
        "        yield self.env.timeout(vehicle.move_time);\n",
        "        yield self.env.timeout(random.randint(vehicle.min_wash_time, vehicle.max_wash_time))\n",
        "        print('Removido  {%d%%} suciedad vehiculo => %s ' % (random.randint(30, 90), \n",
        "                                                             vehicle.kind + ' ' + str(vehicle.id)))\n",
        "        \n",
        "def vehicle_arrival(env, vehicle, laundry):\n",
        "    print('Llega vehiculo: %s a la hora %.2f.' % (vehicle.kind + ' ' + str(vehicle.id), env.now))\n",
        "    with laundry.machines.request() as machine:\n",
        "        yield machine\n",
        "        print('Entra vehiculo a lavarse: %s a la hora %.2f.' % (vehicle.kind + ' ' + str(vehicle.id), env.now))\n",
        "        yield env.process(laundry.wash_vehicle(vehicle))\n",
        "        print('Vehiculo [%s] lavado a las %.2f.' % (vehicle.kind + ' ' + str(vehicle.id), env.now))\n",
        "        k = env.now\n",
        "    if k in time:\n",
        "        time[k] = time[k] + 1\n",
        "    else:\n",
        "        time[k] = 1\n",
        "\n",
        "def run_simulation(env, vehicles, machines_num, min_interval, max_interval):\n",
        "    laundry = Laundry(env, machines_num)\n",
        "    i = 0\n",
        "    # Creamos llegadas de vehiculos iniciales\n",
        "#     for i in range(machines_num):\n",
        "#         vehicle = random.choice(vehicles)\n",
        "#         env.process(vehicle_arrival(\n",
        "#             env, Vehicle(i, vehicle.kind, vehicle.min_wash_time, vehicle.max_wash_time, vehicle.move_time), \n",
        "#             laundry))\n",
        "    \n",
        "    # Ejecutamos la simulacion\n",
        "    while True:\n",
        "        yield env.timeout(random.randint(min_interval, max_interval))\n",
        "        vehicle = random.choice(vehicles)\n",
        "        env.process(\n",
        "            vehicle_arrival(\n",
        "                env, \n",
        "                Vehicle(i, vehicle.kind, vehicle.min_wash_time, vehicle.max_wash_time, vehicle.move_time), \n",
        "            laundry))\n",
        "        i+=1\n",
        "        \n",
        "def get_vehicles():\n",
        "    vehicles = list()\n",
        "    vehicles.append(Vehicle(0, 'Bus', 15, 20, 4))\n",
        "    vehicles.append(Vehicle(0, 'Automóvil', 7, 10, 1))\n",
        "    vehicles.append(Vehicle(0, 'Furgoneta', 12, 15, 2))\n",
        "    return vehicles\n",
        "\n",
        "def start_simulation(machines_num, simulation_time, min_interval = 1, max_interval = 2):\n",
        "    # Reseteo de las horas\n",
        "    global time\n",
        "    time = {}\n",
        "    \n",
        "    # Creamos el entorno de simulacion\n",
        "    env = simpy.Environment()\n",
        "    env.process(run_simulation(\n",
        "        env, get_vehicles(), machines_num, min_interval, max_interval))\n",
        "\n",
        "    # Ejecutamos el proceso durante el tiempo de simulacion\n",
        "    env.run(until = simulation_time)\n",
        "\n",
        "    print('\\nDiccionario de las horas: ', time)\n",
        "    \n",
        "    # Generamos una grafica en base al diccionario del tiempo\n",
        "    labels = list(time.keys())\n",
        "    values = list(time.values())\n",
        "    plt.bar(range(len(time)), values, align=\"center\", tick_label=labels)\n",
        "    plt.title(f'Tiempo/Salida Vehiculos con {machines_num} máquinas')\n",
        "    plt.xlabel('Tiempo')\n",
        "    plt.ylabel('Nro. Vehiculos')\n",
        "    plt.show()"
      ]
    },
    {
      "cell_type": "code",
      "source": [
        "# Variables y constantes globales\n",
        "\n",
        "# Creamos un diccionario para almacenar las horas en que se lavan los vehiculos\n",
        "# Esto permite graficar o generar los resultados\n",
        "time = {}\n",
        "\n",
        "# Tiempo de simulación\n",
        "SIMULATION_TIME = 60\n",
        "\n",
        "# Semilla\n",
        "SEED = 77"
      ],
      "metadata": {
        "id": "GdkIZiqrr0Q6"
      },
      "execution_count": 4,
      "outputs": []
    },
    {
      "cell_type": "code",
      "source": [
        "random.seed(SEED)\n",
        "machines_num = 3\n",
        "print(f'Lavanderia de Vehiculos - {machines_num} máquinas', '\\n')\n",
        "start_simulation(machines_num, SIMULATION_TIME)"
      ],
      "metadata": {
        "colab": {
          "base_uri": "https://localhost:8080/",
          "height": 1000
        },
        "id": "Vxw0M5pHr88q",
        "outputId": "ed6d8292-8060-4c84-c04f-c87a1bd5d8ef"
      },
      "execution_count": 5,
      "outputs": [
        {
          "output_type": "stream",
          "name": "stdout",
          "text": [
            "Lavanderia de Vehiculos - 3 máquinas \n",
            "\n",
            "Llega vehiculo: Automóvil 0 a la hora 2.00.\n",
            "Entra vehiculo a lavarse: Automóvil 0 a la hora 2.00.\n",
            "Llega vehiculo: Bus 1 a la hora 3.00.\n",
            "Entra vehiculo a lavarse: Bus 1 a la hora 3.00.\n",
            "Llega vehiculo: Automóvil 2 a la hora 4.00.\n",
            "Entra vehiculo a lavarse: Automóvil 2 a la hora 4.00.\n",
            "Llega vehiculo: Bus 3 a la hora 6.00.\n",
            "Llega vehiculo: Bus 4 a la hora 7.00.\n",
            "Llega vehiculo: Bus 5 a la hora 9.00.\n",
            "Removido  {62%} suciedad vehiculo => Automóvil 0 \n",
            "Llega vehiculo: Automóvil 6 a la hora 10.00.\n",
            "Vehiculo [Automóvil 0] lavado a las 10.00.\n",
            "Entra vehiculo a lavarse: Bus 3 a la hora 10.00.\n",
            "Llega vehiculo: Automóvil 7 a la hora 11.00.\n",
            "Removido  {37%} suciedad vehiculo => Automóvil 2 \n",
            "Llega vehiculo: Bus 8 a la hora 13.00.\n",
            "Vehiculo [Automóvil 2] lavado a las 13.00.\n",
            "Entra vehiculo a lavarse: Bus 4 a la hora 13.00.\n",
            "Llega vehiculo: Automóvil 9 a la hora 15.00.\n",
            "Llega vehiculo: Bus 10 a la hora 16.00.\n",
            "Llega vehiculo: Bus 11 a la hora 17.00.\n",
            "Llega vehiculo: Furgoneta 12 a la hora 18.00.\n",
            "Llega vehiculo: Furgoneta 13 a la hora 20.00.\n",
            "Llega vehiculo: Bus 14 a la hora 21.00.\n",
            "Llega vehiculo: Furgoneta 15 a la hora 22.00.\n",
            "Removido  {84%} suciedad vehiculo => Bus 1 \n",
            "Llega vehiculo: Bus 16 a la hora 24.00.\n",
            "Vehiculo [Bus 1] lavado a las 24.00.\n",
            "Entra vehiculo a lavarse: Bus 5 a la hora 24.00.\n",
            "Llega vehiculo: Furgoneta 17 a la hora 25.00.\n",
            "Llega vehiculo: Bus 18 a la hora 27.00.\n",
            "Llega vehiculo: Automóvil 19 a la hora 28.00.\n",
            "Llega vehiculo: Automóvil 20 a la hora 29.00.\n",
            "Llega vehiculo: Automóvil 21 a la hora 30.00.\n",
            "Llega vehiculo: Bus 22 a la hora 31.00.\n",
            "Removido  {55%} suciedad vehiculo => Bus 4 \n",
            "Vehiculo [Bus 4] lavado a las 32.00.\n",
            "Entra vehiculo a lavarse: Automóvil 6 a la hora 32.00.\n",
            "Removido  {77%} suciedad vehiculo => Bus 3 \n",
            "Llega vehiculo: Bus 23 a la hora 33.00.\n",
            "Vehiculo [Bus 3] lavado a las 33.00.\n",
            "Entra vehiculo a lavarse: Automóvil 7 a la hora 33.00.\n",
            "Llega vehiculo: Bus 24 a la hora 35.00.\n",
            "Llega vehiculo: Furgoneta 25 a la hora 37.00.\n",
            "Llega vehiculo: Furgoneta 26 a la hora 38.00.\n",
            "Removido  {78%} suciedad vehiculo => Automóvil 6 \n",
            "Llega vehiculo: Automóvil 27 a la hora 40.00.\n",
            "Vehiculo [Automóvil 6] lavado a las 40.00.\n",
            "Entra vehiculo a lavarse: Bus 8 a la hora 40.00.\n",
            "Removido  {46%} suciedad vehiculo => Automóvil 7 \n",
            "Llega vehiculo: Furgoneta 28 a la hora 41.00.\n",
            "Vehiculo [Automóvil 7] lavado a las 41.00.\n",
            "Entra vehiculo a lavarse: Automóvil 9 a la hora 41.00.\n",
            "Llega vehiculo: Furgoneta 29 a la hora 43.00.\n",
            "Removido  {71%} suciedad vehiculo => Bus 5 \n",
            "Llega vehiculo: Bus 30 a la hora 45.00.\n",
            "Vehiculo [Bus 5] lavado a las 45.00.\n",
            "Entra vehiculo a lavarse: Bus 10 a la hora 45.00.\n",
            "Llega vehiculo: Automóvil 31 a la hora 46.00.\n",
            "Llega vehiculo: Bus 32 a la hora 47.00.\n",
            "Removido  {88%} suciedad vehiculo => Automóvil 9 \n",
            "Llega vehiculo: Automóvil 33 a la hora 49.00.\n",
            "Vehiculo [Automóvil 9] lavado a las 49.00.\n",
            "Entra vehiculo a lavarse: Bus 11 a la hora 49.00.\n",
            "Llega vehiculo: Bus 34 a la hora 50.00.\n",
            "Llega vehiculo: Bus 35 a la hora 52.00.\n",
            "Llega vehiculo: Bus 36 a la hora 53.00.\n",
            "Llega vehiculo: Bus 37 a la hora 54.00.\n",
            "Llega vehiculo: Bus 38 a la hora 56.00.\n",
            "Llega vehiculo: Automóvil 39 a la hora 58.00.\n",
            "Llega vehiculo: Bus 40 a la hora 59.00.\n",
            "\n",
            "Diccionario de las horas:  {10: 1, 13: 1, 24: 1, 32: 1, 33: 1, 40: 1, 41: 1, 45: 1, 49: 1}\n"
          ]
        },
        {
          "output_type": "display_data",
          "data": {
            "text/plain": [
              "<Figure size 432x288 with 1 Axes>"
            ],
            "image/png": "[encoded data removed]"
          },
          "metadata": {
            "needs_background": "light"
          }
        }
      ]
    },
    {
      "cell_type": "code",
      "source": [
        "random.seed(SEED)\n",
        "machines_num = 4\n",
        "print(f'Lavanderia de Vehiculos - {machines_num} máquinas', '\\n')\n",
        "start_simulation(machines_num, SIMULATION_TIME)"
      ],
      "metadata": {
        "colab": {
          "base_uri": "https://localhost:8080/",
          "height": 1000
        },
        "id": "b671eIxosC5j",
        "outputId": "046bf976-2e62-46ba-f0aa-f976489cba7e"
      },
      "execution_count": 6,
      "outputs": [
        {
          "output_type": "stream",
          "name": "stdout",
          "text": [
            "Lavanderia de Vehiculos - 4 máquinas \n",
            "\n",
            "Llega vehiculo: Automóvil 0 a la hora 2.00.\n",
            "Entra vehiculo a lavarse: Automóvil 0 a la hora 2.00.\n",
            "Llega vehiculo: Bus 1 a la hora 3.00.\n",
            "Entra vehiculo a lavarse: Bus 1 a la hora 3.00.\n",
            "Llega vehiculo: Automóvil 2 a la hora 4.00.\n",
            "Entra vehiculo a lavarse: Automóvil 2 a la hora 4.00.\n",
            "Llega vehiculo: Bus 3 a la hora 6.00.\n",
            "Entra vehiculo a lavarse: Bus 3 a la hora 6.00.\n",
            "Llega vehiculo: Bus 4 a la hora 7.00.\n",
            "Llega vehiculo: Bus 5 a la hora 9.00.\n",
            "Removido  {62%} suciedad vehiculo => Automóvil 0 \n",
            "Llega vehiculo: Bus 6 a la hora 10.00.\n",
            "Vehiculo [Automóvil 0] lavado a las 10.00.\n",
            "Entra vehiculo a lavarse: Bus 4 a la hora 10.00.\n",
            "Llega vehiculo: Automóvil 7 a la hora 12.00.\n",
            "Removido  {35%} suciedad vehiculo => Automóvil 2 \n",
            "Llega vehiculo: Furgoneta 8 a la hora 13.00.\n",
            "Vehiculo [Automóvil 2] lavado a las 13.00.\n",
            "Entra vehiculo a lavarse: Bus 5 a la hora 13.00.\n",
            "Llega vehiculo: Automóvil 9 a la hora 15.00.\n",
            "Llega vehiculo: Bus 10 a la hora 16.00.\n",
            "Llega vehiculo: Bus 11 a la hora 17.00.\n",
            "Llega vehiculo: Furgoneta 12 a la hora 18.00.\n",
            "Llega vehiculo: Furgoneta 13 a la hora 20.00.\n",
            "Llega vehiculo: Bus 14 a la hora 21.00.\n",
            "Llega vehiculo: Furgoneta 15 a la hora 22.00.\n",
            "Removido  {84%} suciedad vehiculo => Bus 1 \n",
            "Llega vehiculo: Bus 16 a la hora 24.00.\n",
            "Vehiculo [Bus 1] lavado a las 24.00.\n",
            "Entra vehiculo a lavarse: Bus 6 a la hora 24.00.\n",
            "Llega vehiculo: Furgoneta 17 a la hora 25.00.\n",
            "Llega vehiculo: Bus 18 a la hora 27.00.\n",
            "Removido  {47%} suciedad vehiculo => Bus 3 \n",
            "Llega vehiculo: Furgoneta 19 a la hora 28.00.\n",
            "Vehiculo [Bus 3] lavado a las 28.00.\n",
            "Entra vehiculo a lavarse: Automóvil 7 a la hora 28.00.\n",
            "Llega vehiculo: Automóvil 20 a la hora 29.00.\n",
            "Llega vehiculo: Furgoneta 21 a la hora 30.00.\n",
            "Llega vehiculo: Bus 22 a la hora 31.00.\n",
            "Removido  {55%} suciedad vehiculo => Bus 5 \n",
            "Vehiculo [Bus 5] lavado a las 32.00.\n",
            "Entra vehiculo a lavarse: Furgoneta 8 a la hora 32.00.\n",
            "Removido  {77%} suciedad vehiculo => Bus 4 \n",
            "Llega vehiculo: Bus 23 a la hora 33.00.\n",
            "Vehiculo [Bus 4] lavado a las 33.00.\n",
            "Entra vehiculo a lavarse: Automóvil 9 a la hora 33.00.\n",
            "Llega vehiculo: Bus 24 a la hora 35.00.\n",
            "Llega vehiculo: Furgoneta 25 a la hora 37.00.\n",
            "Llega vehiculo: Furgoneta 26 a la hora 38.00.\n",
            "Removido  {78%} suciedad vehiculo => Automóvil 7 \n",
            "Vehiculo [Automóvil 7] lavado a las 39.00.\n",
            "Entra vehiculo a lavarse: Bus 10 a la hora 39.00.\n",
            "Llega vehiculo: Automóvil 27 a la hora 40.00.\n",
            "Removido  {46%} suciedad vehiculo => Automóvil 9 \n",
            "Llega vehiculo: Furgoneta 28 a la hora 41.00.\n",
            "Vehiculo [Automóvil 9] lavado a las 41.00.\n",
            "Entra vehiculo a lavarse: Bus 11 a la hora 41.00.\n",
            "Llega vehiculo: Furgoneta 29 a la hora 43.00.\n",
            "Llega vehiculo: Furgoneta 30 a la hora 45.00.\n",
            "Removido  {39%} suciedad vehiculo => Bus 6 \n",
            "Removido  {49%} suciedad vehiculo => Furgoneta 8 \n",
            "Llega vehiculo: Furgoneta 31 a la hora 46.00.\n",
            "Vehiculo [Bus 6] lavado a las 46.00.\n",
            "Vehiculo [Furgoneta 8] lavado a las 46.00.\n",
            "Entra vehiculo a lavarse: Furgoneta 12 a la hora 46.00.\n",
            "Entra vehiculo a lavarse: Furgoneta 13 a la hora 46.00.\n",
            "Llega vehiculo: Bus 32 a la hora 47.00.\n",
            "Llega vehiculo: Furgoneta 33 a la hora 49.00.\n",
            "Llega vehiculo: Bus 34 a la hora 50.00.\n",
            "Llega vehiculo: Bus 35 a la hora 52.00.\n",
            "Llega vehiculo: Furgoneta 36 a la hora 53.00.\n",
            "Llega vehiculo: Bus 37 a la hora 54.00.\n",
            "Llega vehiculo: Furgoneta 38 a la hora 55.00.\n",
            "Llega vehiculo: Bus 39 a la hora 57.00.\n",
            "Removido  {60%} suciedad vehiculo => Bus 10 \n",
            "Vehiculo [Bus 10] lavado a las 58.00.\n",
            "Entra vehiculo a lavarse: Bus 14 a la hora 58.00.\n",
            "Llega vehiculo: Bus 40 a la hora 59.00.\n",
            "\n",
            "Diccionario de las horas:  {10: 1, 13: 1, 24: 1, 28: 1, 32: 1, 33: 1, 39: 1, 41: 1, 46: 2, 58: 1}\n"
          ]
        },
        {
          "output_type": "display_data",
          "data": {
            "text/plain": [
              "<Figure size 432x288 with 1 Axes>"
            ],
            "image/png": "[encoded data removed]"
          },
          "metadata": {
            "needs_background": "light"
          }
        }
      ]
    }
  ]
}