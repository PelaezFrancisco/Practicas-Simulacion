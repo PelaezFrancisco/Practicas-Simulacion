{
  "cells": [
    {
      "cell_type": "markdown",
      "metadata": {},
      "source": [
        "Prueba de Unidad 3\n",
        "Francisco Pelaez"
      ]
    },
    {
      "cell_type": "markdown",
      "metadata": {
        "id": "so6eiEvR_T3w"
      },
      "source": [
        "Parametros\n",
        "\n",
        "*   α= 1\n",
        "*   λ= 0.5\n",
        "\n"
      ]
    },
    {
      "cell_type": "code",
      "execution_count": 16,
      "metadata": {
        "id": "kmLcXYQg9lce"
      },
      "outputs": [],
      "source": [
        "import numpy as np\n",
        "import random\n",
        "import matplotlib.pyplot as plt\n",
        "\n",
        "from math import exp\n",
        "from numpy import log"
      ]
    },
    {
      "cell_type": "code",
      "execution_count": 26,
      "metadata": {},
      "outputs": [
        {
          "name": "stdout",
          "output_type": "stream",
          "text": [
            "Random Example = 5.567725391204322\n"
          ]
        }
      ],
      "source": [
        "#Numeros Randomicos\n",
        "\n",
        "list_num=[]\n",
        "\n",
        "for i in range(100):\n",
        "  list_num.append((random.random()*10))\n",
        "\n",
        "print('Random Example = '+ str(list_num[0]))"
      ]
    },
    {
      "cell_type": "code",
      "execution_count": 27,
      "metadata": {},
      "outputs": [],
      "source": [
        "#Aplicacion de Formula\n",
        "#Seria en el quito grupo, por lo tanto es la formula de Weibull\n",
        "a=1 \n",
        "lam=0.5\n",
        "\n",
        "list_resul=[]\n",
        "for i in list_num:\n",
        "  resul = (((log(exp(1 - i)) * -1)**(1/a))/lam)\n",
        "  list_resul.append(resul)"
      ]
    },
    {
      "cell_type": "code",
      "execution_count": 28,
      "metadata": {},
      "outputs": [
        {
          "name": "stdout",
          "output_type": "stream",
          "text": [
            "Ejemplo resultado = 9.135450782408643\n"
          ]
        }
      ],
      "source": [
        "print('Ejemplo resultado = ' + str(list_resul[0]))"
      ]
    },
    {
      "cell_type": "markdown",
      "metadata": {
        "id": "abJg0QjdZ5-8"
      },
      "source": [
        "##### **Graficas**"
      ]
    },
    {
      "cell_type": "code",
      "execution_count": 29,
      "metadata": {
        "colab": {
          "base_uri": "https://localhost:8080/",
          "height": 281
        },
        "id": "LnXL1k29WL9M",
        "outputId": "d94974f7-2d71-4227-d094-5baa43a73800"
      },
      "outputs": [
        {
          "data": {
            "image/png": "[encoded data removed]",
            "text/plain": [
              "<Figure size 432x288 with 1 Axes>"
            ]
          },
          "metadata": {
            "needs_background": "light"
          },
          "output_type": "display_data"
        }
      ],
      "source": [
        "count, x, _ = plt.hist(list_resul, 100, density=True) \n",
        "densidad = a*lam**a / x**(a+1) \n",
        "plt.plot(x, max(count)*densidad/max(densidad), linewidth=2, color='yellow')\n",
        "plt.title('Función de Densidad')\n",
        "plt.show()"
      ]
    },
    {
      "cell_type": "code",
      "execution_count": 30,
      "metadata": {
        "colab": {
          "base_uri": "https://localhost:8080/",
          "height": 281
        },
        "id": "YT4spp2wXdLw",
        "outputId": "57e6c1d2-1029-4586-f478-972084a89586"
      },
      "outputs": [
        {
          "data": {
            "image/png": "[encoded data removed]",
            "text/plain": [
              "<Figure size 432x288 with 1 Axes>"
            ]
          },
          "metadata": {
            "needs_background": "light"
          },
          "output_type": "display_data"
        }
      ],
      "source": [
        "count, x, _ = plt.hist(list_resul, 100, density=True) \n",
        "acumulada = 1 - (lam/x)**a \n",
        "plt.plot(x, max(count)*acumulada/max(acumulada), linewidth=2, color='yellow') \n",
        "plt.title('Función Acumulada')\n",
        "plt.show()"
      ]
    }
  ],
  "metadata": {
    "colab": {
      "authorship_tag": "ABX9TyMvZlu2hiIeKGGQ4ecfOZ+D",
      "collapsed_sections": [],
      "include_colab_link": true,
      "name": "Prueba3_TixiDiana.ipynb",
      "provenance": []
    },
    "interpreter": {
      "hash": "e788497cb3569157be8e656aed1f4beb46e0ad7c9c943d25fb630c9e375e334a"
    },
    "kernelspec": {
      "display_name": "Python 3.10.4 64-bit",
      "language": "python",
      "name": "python3"
    },
    "language_info": {
      "codemirror_mode": {
        "name": "ipython",
        "version": 3
      },
      "file_extension": ".py",
      "mimetype": "text/x-python",
      "name": "python",
      "nbconvert_exporter": "python",
      "pygments_lexer": "ipython3",
      "version": "3.10.4"
    }
  },
  "nbformat": 4,
  "nbformat_minor": 0
}
