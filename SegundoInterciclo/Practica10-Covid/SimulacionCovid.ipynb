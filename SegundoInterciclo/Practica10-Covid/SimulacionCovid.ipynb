{
  "nbformat": 4,
  "nbformat_minor": 0,
  "metadata": {
    "colab": {
      "name": "SimulacionCovid.ipynb",
      "provenance": [],
      "collapsed_sections": []
    },
    "kernelspec": {
      "name": "python3",
      "display_name": "Python 3"
    },
    "language_info": {
      "name": "python"
    }
  },
  "cells": [
    {
      "cell_type": "markdown",
      "source": [
        "# Practica 9 - SimPy COVID\n",
        "\n",
        "##### Nombre: Juan Francisco Pelaez Becerra\n",
        "\n",
        "##### Fecha: 30/07/2022"
      ],
      "metadata": {
        "id": "ME6uNrOR1bBK"
      }
    },
    {
      "cell_type": "markdown",
      "source": [
        "Realizar la planificación y modelado de una simulacion basado en eventos discretos para identificar los contagios dentro de un establecimiento de estudiantes post COVID-19 para el reingreso de clases. Los pasos para el regreso progresivo a clases se describe a continuación:\n",
        "\n",
        "* Calcular e Identificar el aforo máximo permitido en la institución educativa.\n",
        "\n",
        "* Identificar el número de estudiantes y el porcentaje de contagio dentro del contexto poblacional el mismo que se aplicara dentro de la simulación por el contagio.\n",
        "\n",
        "* Generar la simulación desde la puerta de ingreso y la salida del plantel por día.\n",
        "\n",
        "* Los estudiantes hacen fila para ingresar al establecimiento y no pueden superar el aforo permitido.\n",
        "\n",
        "* Realizar con un tiempo de un 1 mes."
      ],
      "metadata": {
        "id": "o-RXqsb01gn5"
      }
    },
    {
      "cell_type": "code",
      "source": [
        "#LIBRERIAS\n",
        "%%capture\n",
        "!pip install simpy\n",
        "import simpy\n",
        "import random\n",
        "import matplotlib.pyplot as plt\n",
        "from scipy import stats \n",
        "import numpy as np"
      ],
      "metadata": {
        "id": "hPhd8qH43St5"
      },
      "execution_count": 1,
      "outputs": []
    },
    {
      "cell_type": "code",
      "source": [
        "#Probabilidad de contagio \n",
        "PROBABILIDAD_CONTAGIO=0.05\n",
        "#Numero de personas\n",
        "AFORO=300\n",
        "#Tiempo de simulacion \n",
        "TIEMPO_SIMULACION = 1000"
      ],
      "metadata": {
        "id": "-5nl7G7t3srA"
      },
      "execution_count": 7,
      "outputs": []
    },
    {
      "cell_type": "code",
      "source": [
        "contador=0\n",
        "contagios=[]\n",
        "lasHoras={}\n",
        "\n",
        "class Universidad(object):\n",
        "    \n",
        "    def __init__(self, environment, PROBABILIDAD_CONTAGIO, AFORO, TIEMPO_SIMULACION):\n",
        "        self.env=environment\n",
        "        self.aforo = simpy.Resource(environment, AFORO)\n",
        "        self.probabilidadContagio = PROBABILIDAD_CONTAGIO \n",
        "        \n",
        "    def estanciaEnUniversidad(self, vehiculo):\n",
        "        tiempo=random.randint(60,360)\n",
        "        yield self.env.timeout(tiempo)\n",
        "        return tiempo\n",
        "\n",
        "def llegada_estudiantes(env, nombre, universidad):\n",
        "    global contador\n",
        "    # print('Llega %s: a la hora %.2f.' % (nombre, env.now))\n",
        "\n",
        "    with universidad.aforo.request() as aforo:\n",
        "\n",
        "        yield aforo\n",
        "\n",
        "        # print('Entra %s a la hora %.2f.' % (nombre, env.now))\n",
        "        tEst=yield env.process(universidad.estanciaEnUniversidad(nombre))\n",
        "        # print(tEst)\n",
        "        if tEst in lasHoras.keys():\n",
        "            lasHoras[tEst]+=1\n",
        "        else:\n",
        "            lasHoras[tEst]=1\n",
        "\n",
        "        # print('El %s salio a las %.2f.' % (nombre, env.now))\n",
        "        # print(lasHoras)\n",
        "\n",
        "def poner_contagios_porDia(lasHoras, PROBABILIDAD_CONTAGIO):\n",
        "    contadorContagios=0\n",
        "    for k in list(lasHoras.keys()):\n",
        "        bernoulli = stats.bernoulli(PROBABILIDAD_CONTAGIO)\n",
        "        contagios=bernoulli.rvs(lasHoras[k])\n",
        "        # print(k)\n",
        "        if k>=60 and k<120:\n",
        "            bernoulli = stats.bernoulli(PROBABILIDAD_CONTAGIO)\n",
        "            contagios=bernoulli.rvs(lasHoras[k])\n",
        "        elif k>=120 and k<180:\n",
        "            a=PROBABILIDAD_CONTAGIO+0.1\n",
        "            bernoulli = stats.bernoulli(a)\n",
        "            contagios=bernoulli.rvs(lasHoras[k])\n",
        "        elif k>=180 and k<240:\n",
        "            a=PROBABILIDAD_CONTAGIO+0.2\n",
        "            bernoulli = stats.bernoulli(a)\n",
        "            contagios=bernoulli.rvs(lasHoras[k])\n",
        "        elif k>=240 and k<300:\n",
        "            a=PROBABILIDAD_CONTAGIO+0.3\n",
        "            bernoulli = stats.bernoulli(a)\n",
        "            contagios=bernoulli.rvs(lasHoras[k])\n",
        "        elif k>=300 and k<360:\n",
        "            a=PROBABILIDAD_CONTAGIO+0.4\n",
        "            bernoulli = stats.bernoulli(a)\n",
        "            contagios=bernoulli.rvs(lasHoras[k])\n",
        "        elif k>=360 and k<420:\n",
        "            # print('hola')\n",
        "            a=PROBABILIDAD_CONTAGIO+0.5\n",
        "            bernoulli = stats.bernoulli(a)\n",
        "            contagios=bernoulli.rvs(lasHoras[k])\n",
        "        for c in contagios:\n",
        "            if c == 1:\n",
        "                contadorContagios+=1\n",
        "    return contadorContagios\n",
        "\n",
        "def ejecutar_simulacion(env,PROBABILIDAD_CONTAGIO, AFORO, TIEMPO_SIMULACION):\n",
        "    universidad=Universidad(env,PROBABILIDAD_CONTAGIO, AFORO, TIEMPO_SIMULACION)\n",
        "    global contador\n",
        "    global lasHoras\n",
        "    \n",
        "    i=0\n",
        "    while True:\n",
        "        i+=1\n",
        "        yield env.timeout(1)\n",
        "        env.process(llegada_estudiantes(env, 'estudiante '+str(i), universidad))\n",
        "        contagiosDia=poner_contagios_porDia(lasHoras, PROBABILIDAD_CONTAGIO)\n",
        "        if i==360:\n",
        "            contagios.append(contagiosDia)\n",
        "            lasHoras={}\n",
        "            i=0\n",
        "        # contagios.append(contador)\n",
        "        \n",
        "\n",
        "print('Ingreso a clases UPS')\n",
        "# Inicializamos la semilla aleatoria\n",
        "random.seed(77)\n",
        "\n",
        "# Creamos el entorno de simulacion\n",
        "env=simpy.Environment()\n",
        "env.process(ejecutar_simulacion(env, PROBABILIDAD_CONTAGIO, AFORO, TIEMPO_SIMULACION))\n",
        "\n",
        "# Ejecutamos el proceso durante el tiempo de simulacion\n",
        "env.run(until = TIEMPO_SIMULACION)\n",
        "\n",
        "print(contagios)\n",
        "print(len(contagios))\n",
        "print(lasHoras)\n",
        "# Generamos una grafica en base al diccionario del tiempo\n",
        "etiqueta = list(list(range(len(contagios))))\n",
        "valores = list(contagios)\n",
        "plt.bar(etiqueta, valores, align=\"center\")\n",
        "plt.title(\"Numero de ontagios por dia\")\n",
        "plt.xlabel(\"Dia\")\n",
        "plt.ylabel(\"Nro. Contagios\")\n",
        "plt.show()"
      ],
      "metadata": {
        "colab": {
          "base_uri": "https://localhost:8080/",
          "height": 388
        },
        "id": "g-qiiuyN90Xs",
        "outputId": "06ccd4e2-f650-4c1f-de7b-7ad18cdad1f5"
      },
      "execution_count": 8,
      "outputs": [
        {
          "output_type": "stream",
          "name": "stdout",
          "text": [
            "Ingreso a clases UPS\n",
            "[24, 100]\n",
            "2\n",
            "{359: 2, 339: 2, 309: 1, 87: 3, 178: 3, 310: 2, 307: 2, 257: 2, 314: 2, 299: 3, 271: 1, 262: 1, 80: 1, 232: 1, 197: 1, 171: 1, 142: 2, 296: 1, 107: 2, 91: 1, 68: 2, 311: 2, 190: 1, 345: 1, 286: 1, 163: 2, 214: 2, 261: 3, 115: 2, 70: 1, 320: 2, 283: 2, 211: 1, 86: 1, 79: 3, 254: 2, 64: 2, 243: 2, 172: 2, 110: 3, 355: 2, 275: 3, 126: 2, 209: 1, 264: 1, 263: 1, 181: 2, 218: 3, 205: 1, 346: 2, 327: 2, 298: 1, 128: 3, 202: 1, 90: 1, 208: 1, 157: 1, 290: 1, 212: 3, 177: 1, 63: 1, 281: 1, 222: 4, 141: 2, 122: 1, 129: 1, 216: 2, 151: 2, 278: 1, 244: 1, 73: 1, 116: 2, 95: 1, 187: 1, 82: 2, 139: 1, 344: 2, 155: 1, 145: 1, 272: 1, 322: 1, 313: 1, 269: 1, 266: 3, 121: 1, 268: 1, 206: 1, 77: 2, 215: 1, 338: 1, 235: 2, 291: 1, 118: 2, 329: 1, 168: 1, 159: 1, 130: 1, 119: 1, 106: 1, 199: 1, 114: 1, 292: 1, 78: 1, 60: 1, 293: 1, 148: 2, 318: 1, 253: 1, 210: 1, 282: 1, 280: 2, 285: 1, 328: 2, 279: 1, 325: 1, 133: 1, 180: 1, 101: 1, 251: 1, 260: 2, 341: 1, 83: 1, 255: 2, 249: 2, 332: 2, 88: 2, 81: 1, 233: 1, 234: 1, 230: 1, 97: 1, 352: 1, 176: 1, 112: 1, 137: 1, 360: 1, 265: 2, 240: 2, 303: 1, 330: 1, 200: 1, 94: 2, 147: 2, 140: 1, 188: 1, 316: 1, 154: 1, 92: 1, 191: 2, 276: 3, 219: 1, 149: 2, 113: 1, 308: 1, 238: 1, 71: 2, 295: 1, 183: 1, 161: 1, 169: 1, 67: 1, 274: 1, 69: 1, 158: 1, 62: 1, 150: 2, 259: 1, 302: 1, 213: 1, 136: 1, 66: 1, 351: 1, 323: 1, 246: 1, 324: 1, 223: 1, 109: 1, 357: 1, 124: 1, 104: 1, 165: 1, 317: 1, 84: 1, 301: 2, 340: 1, 125: 1, 227: 1, 342: 1, 194: 1, 319: 1, 304: 1}\n"
          ]
        },
        {
          "output_type": "display_data",
          "data": {
            "text/plain": [
              "<Figure size 432x288 with 1 Axes>"
            ],
            "image/png": "[encoded data removed]"
          },
          "metadata": {
            "needs_background": "light"
          }
        }
      ]
    }
  ]
}